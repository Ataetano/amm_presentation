{
 "cells": [
  {
   "cell_type": "code",
   "execution_count": 1,
   "id": "130400c0-9559-4e20-9605-789dcddfe5a8",
   "metadata": {},
   "outputs": [],
   "source": [
    "from melody import Melody\n",
    "import numpy as np"
   ]
  },
  {
   "cell_type": "code",
   "execution_count": 2,
   "id": "e1fad881-1fa0-4e32-a381-b4452ae807ad",
   "metadata": {},
   "outputs": [],
   "source": [
    "def rossler_system(t, x, a=0.2, b=0.2, c=5.7):\n",
    "    \"\"\"\n",
    "    Computes the derivatives of the Rössler system at a given time t.\n",
    "    \n",
    "    Parameters:\n",
    "    t (int or float): Time variable (not explicitly used in computation).\n",
    "    x (array_like): State vector at time t, given as a list or NumPy array [x_1, x_2, x_3].\n",
    "    a (float): Rössler system parameter (default chaotic values: a=0.2, b=0.2, c=5.7).\n",
    "    b (float): Rössler system parameter.\n",
    "    c (float): Rössler system parameter.\n",
    "    \n",
    "    Returns:\n",
    "    numpy.ndarray: The time derivatives [dx/dt, dy/dt, dz/dt] as a NumPy array.\n",
    "    \"\"\"\n",
    "    x_1, x_2, x_3 = x\n",
    "    xdot = -x_2 - x_3\n",
    "    ydot = x_1 + a * x_2\n",
    "    zdot = b + x_3 * (x_1 - c)\n",
    "    return np.array([xdot, ydot, zdot])"
   ]
  },
  {
   "cell_type": "code",
   "execution_count": 3,
   "id": "8b0e3fe1-661d-426a-bebb-e21f038c9aeb",
   "metadata": {},
   "outputs": [],
   "source": [
    "my_melody = Melody()"
   ]
  },
  {
   "cell_type": "code",
   "execution_count": 4,
   "id": "b7101b05-45e8-4722-9b8e-8b2610cb5587",
   "metadata": {},
   "outputs": [],
   "source": [
    "my_melody.load(r\"C:\\Users\\Asus\\Desktop\\Python_Program\\DSMID\\River_Flows_In_You.mid\")"
   ]
  },
  {
   "cell_type": "code",
   "execution_count": 5,
   "id": "149ea4a1-0a2b-4f6d-b23c-0483971fd97e",
   "metadata": {},
   "outputs": [],
   "source": [
    "my_melody.set_dynamic(rossler_system)"
   ]
  },
  {
   "cell_type": "code",
   "execution_count": 6,
   "id": "a2f01d4c-598b-4c4e-b47c-c5f842ee4f3a",
   "metadata": {},
   "outputs": [
    {
     "name": "stderr",
     "output_type": "stream",
     "text": [
      "C:\\Users\\Asus\\AppData\\Local\\Packages\\PythonSoftwareFoundation.Python.3.10_qbz5n2kfra8p0\\LocalCache\\local-packages\\Python310\\site-packages\\music21\\stream\\base.py:3689: Music21DeprecationWarning: .flat is deprecated.  Call .flatten() instead\n",
      "  return self.iter().getElementsByClass(classFilterList)\n"
     ]
    }
   ],
   "source": [
    "my_melody.fit(np.array([1.5,1.5,1.5]), method=\"expand\", divisions=4)\n",
    "#my_melody.fit(np.array([1.50,1.50,1.50]))"
   ]
  },
  {
   "cell_type": "code",
   "execution_count": 7,
   "id": "d859f1c7-4e1c-4840-93fe-f9e0ddae4f23",
   "metadata": {},
   "outputs": [
    {
     "data": {
      "text/plain": [
       "dict_keys(['Piano_0', 'track_1'])"
      ]
     },
     "execution_count": 7,
     "metadata": {},
     "output_type": "execute_result"
    }
   ],
   "source": [
    "my_melody.show_all_track()"
   ]
  },
  {
   "cell_type": "code",
   "execution_count": 8,
   "id": "d76815c5-0214-4097-8d98-b53e31040d73",
   "metadata": {},
   "outputs": [],
   "source": [
    "my_melody.variate(np.array([1.51,1.51,1.51]), criteria=\"left\")"
   ]
  },
  {
   "cell_type": "code",
   "execution_count": 9,
   "id": "4369faed-012c-4a42-8fd9-645d8f6e664f",
   "metadata": {},
   "outputs": [],
   "source": [
    "#my_melody.plot_trajectory()"
   ]
  },
  {
   "cell_type": "code",
   "execution_count": 10,
   "id": "ef8061e7-158a-49dc-8e19-b35b50ad34db",
   "metadata": {},
   "outputs": [],
   "source": [
    "my_melody.export(\"midi\")"
   ]
  },
  {
   "cell_type": "code",
   "execution_count": 11,
   "id": "ab9fe778-e612-496c-97ad-47ae6fe36962",
   "metadata": {},
   "outputs": [],
   "source": [
    "my_melody.export(\"pdf\")"
   ]
  },
  {
   "cell_type": "code",
   "execution_count": 12,
   "id": "ecc49dcb-8113-4231-973f-c9acad0ceef3",
   "metadata": {},
   "outputs": [
    {
     "data": {
      "text/plain": [
       "[0, 4, 8]"
      ]
     },
     "execution_count": 12,
     "metadata": {},
     "output_type": "execute_result"
    }
   ],
   "source": [
    "[i for i in range(0,10,4)]"
   ]
  },
  {
   "cell_type": "code",
   "execution_count": 13,
   "id": "78321606-69d6-4bc5-9d1c-121a1250d73b",
   "metadata": {},
   "outputs": [
    {
     "data": {
      "text/plain": [
       "0"
      ]
     },
     "execution_count": 13,
     "metadata": {},
     "output_type": "execute_result"
    }
   ],
   "source": [
    "4 % 4"
   ]
  },
  {
   "cell_type": "code",
   "execution_count": null,
   "id": "fb5752e6-e979-4adc-9a88-85c67a04d232",
   "metadata": {},
   "outputs": [],
   "source": []
  }
 ],
 "metadata": {
  "kernelspec": {
   "display_name": "Python 3 (ipykernel)",
   "language": "python",
   "name": "python3"
  },
  "language_info": {
   "codemirror_mode": {
    "name": "ipython",
    "version": 3
   },
   "file_extension": ".py",
   "mimetype": "text/x-python",
   "name": "python",
   "nbconvert_exporter": "python",
   "pygments_lexer": "ipython3",
   "version": "3.10.11"
  }
 },
 "nbformat": 4,
 "nbformat_minor": 5
}
